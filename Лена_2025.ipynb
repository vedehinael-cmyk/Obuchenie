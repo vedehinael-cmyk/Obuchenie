{
  "nbformat": 4,
  "nbformat_minor": 0,
  "metadata": {
    "colab": {
      "provenance": [],
      "authorship_tag": "ABX9TyO7DUvwQ3PKjNiIoiSL5G+i",
      "include_colab_link": true
    },
    "kernelspec": {
      "name": "python3",
      "display_name": "Python 3"
    },
    "language_info": {
      "name": "python"
    }
  },
  "cells": [
    {
      "cell_type": "markdown",
      "metadata": {
        "id": "view-in-github",
        "colab_type": "text"
      },
      "source": [
        "<a href=\"https://colab.research.google.com/github/vedehinael-cmyk/Obuchenie/blob/main/%D0%9B%D0%B5%D0%BD%D0%B0_2025.ipynb\" target=\"_parent\"><img src=\"https://colab.research.google.com/assets/colab-badge.svg\" alt=\"Open In Colab\"/></a>"
      ]
    },
    {
      "cell_type": "code",
      "execution_count": 5,
      "metadata": {
        "colab": {
          "base_uri": "https://localhost:8080/"
        },
        "id": "AfZclNRab3iL",
        "outputId": "a0b4b6fd-53c1-4715-d4bb-b2ba002229dc"
      },
      "outputs": [
        {
          "output_type": "stream",
          "name": "stdout",
          "text": [
            "это моё первое кодовое поле\n"
          ]
        }
      ],
      "source": [
        "print (\"это моё первое кодовое поле\")"
      ]
    },
    {
      "cell_type": "markdown",
      "source": [
        "*Это моё первое текстовое поле.*"
      ],
      "metadata": {
        "id": "x7KiNqdncOdf"
      }
    }
  ]
}