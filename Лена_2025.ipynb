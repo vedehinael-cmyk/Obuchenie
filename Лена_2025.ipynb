{
  "nbformat": 4,
  "nbformat_minor": 0,
  "metadata": {
    "colab": {
      "provenance": [],
      "authorship_tag": "ABX9TyMgDAYX5rPgBbE3PNorJE7W",
      "include_colab_link": true
    },
    "kernelspec": {
      "name": "python3",
      "display_name": "Python 3"
    },
    "language_info": {
      "name": "python"
    }
  },
  "cells": [
    {
      "cell_type": "markdown",
      "metadata": {
        "id": "view-in-github",
        "colab_type": "text"
      },
      "source": [
        "<a href=\"https://colab.research.google.com/github/vedehinael-cmyk/Obuchenie/blob/main/%D0%9B%D0%B5%D0%BD%D0%B0_2025.ipynb\" target=\"_parent\"><img src=\"https://colab.research.google.com/assets/colab-badge.svg\" alt=\"Open In Colab\"/></a>"
      ]
    },
    {
      "cell_type": "code",
      "execution_count": 4,
      "metadata": {
        "colab": {
          "base_uri": "https://localhost:8080/"
        },
        "id": "AfZclNRab3iL",
        "outputId": "2c776a09-02cf-4810-fbf6-8c19da0c9acc"
      },
      "outputs": [
        {
          "output_type": "stream",
          "name": "stdout",
          "text": [
            "это мой первый код\n"
          ]
        }
      ],
      "source": [
        "print (\"это мой первый код\")"
      ]
    },
    {
      "cell_type": "markdown",
      "source": [
        "*Это моё первое текстовое поле.*"
      ],
      "metadata": {
        "id": "x7KiNqdncOdf"
      }
    }
  ]
}